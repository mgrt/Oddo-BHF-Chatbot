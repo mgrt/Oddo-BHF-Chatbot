{
 "cells": [
  {
   "cell_type": "code",
   "execution_count": 13,
   "id": "ed33ec62-9a55-4761-b68f-edf04284585d",
   "metadata": {},
   "outputs": [],
   "source": [
    "# Warning control\n",
    "import warnings\n",
    "warnings.filterwarnings('ignore')"
   ]
  },
  {
   "cell_type": "code",
   "execution_count": 3,
   "id": "026ba9cd-a732-4c40-ae42-3938cfe221b5",
   "metadata": {},
   "outputs": [],
   "source": [
    "from langchain_community.llms import Ollama\n",
    "llm = Ollama(model=\"nous-hermes2:10.7b\")\n"
   ]
  },
  {
   "cell_type": "code",
   "execution_count": 1,
   "id": "ac4d5834-f5cd-4aff-931b-3dc8693a100f",
   "metadata": {
    "scrolled": true
   },
   "outputs": [],
   "source": [
    "from langchain.chains import RetrievalQA"
   ]
  },
  {
   "cell_type": "code",
   "execution_count": 4,
   "id": "b867cbaa-65e5-4a9d-8d18-dc39a1e0dea8",
   "metadata": {},
   "outputs": [],
   "source": [
    "from langchain_community.embeddings import HuggingFaceBgeEmbeddings\n",
    "\n",
    "model_name = \"BAAI/bge-base-en-v1.5\"\n",
    "model_kwargs = {\"device\": \"cuda\"}\n",
    "encode_kwargs = {\"normalize_embeddings\": True}\n",
    "embedding_model = HuggingFaceBgeEmbeddings(\n",
    "    model_name=model_name, model_kwargs=model_kwargs, encode_kwargs=encode_kwargs\n",
    ")"
   ]
  },
  {
   "cell_type": "code",
   "execution_count": 15,
   "id": "6ea59a81-51a8-44cd-bf01-2cceaae27898",
   "metadata": {},
   "outputs": [],
   "source": [
    "from langchain.prompts import PromptTemplate\n",
    "template = \"\"\"Use the following pieces of context to answer the question at the end. If you don't know the answer, just say that you don't know, don't try to make up an answer. Keep the answer as concise as possible. Always say \"thanks for asking!\" at the end of the answer. \n",
    "{context}\n",
    "Question: {question}\n",
    "Helpful Answer:\"\"\"\n",
    "QA_CHAIN_PROMPT = PromptTemplate(input_variables=[\"context\", \"question\"],template=template,)\n"
   ]
  },
  {
   "cell_type": "code",
   "execution_count": 6,
   "id": "1cfaa627-b5ac-4622-85f6-9b4aea5c2a72",
   "metadata": {},
   "outputs": [],
   "source": [
    "from langchain_community.vectorstores import Chroma\n",
    "persist_directory = 'aa/'"
   ]
  },
  {
   "cell_type": "code",
   "execution_count": 7,
   "id": "fc5c8aa2-e968-423c-b722-fd94ba615fa8",
   "metadata": {},
   "outputs": [],
   "source": [
    "vectorstore = Chroma(persist_directory=persist_directory,embedding_function=embedding_model)"
   ]
  },
  {
   "cell_type": "code",
   "execution_count": 8,
   "id": "f8040e5d-8c4a-4c1f-a9b5-76e1e86c1321",
   "metadata": {},
   "outputs": [],
   "source": [
    "retriever = vectorstore.as_retriever(\n",
    "    search_type=\"similarity\",\n",
    "    search_kwargs={\"k\": 6}\n",
    ")"
   ]
  },
  {
   "cell_type": "code",
   "execution_count": 16,
   "id": "0702135f-f8d4-4d80-9867-cdf1c9020b46",
   "metadata": {},
   "outputs": [],
   "source": [
    "# Run chain\n",
    "qa_chain = RetrievalQA.from_chain_type(\n",
    "    llm,\n",
    "    retriever=vectorstore.as_retriever(),\n",
    "    return_source_documents=True,\n",
    "    chain_type_kwargs={\"prompt\": QA_CHAIN_PROMPT}\n",
    ")"
   ]
  },
  {
   "cell_type": "code",
   "execution_count": 28,
   "id": "f2c51dbb-72a7-4ab3-b058-d881b3dc328a",
   "metadata": {},
   "outputs": [],
   "source": [
    "question = \"what is oddo bhf\"\n",
    "result = qa_chain({\"query\": question})\n"
   ]
  },
  {
   "cell_type": "code",
   "execution_count": 29,
   "id": "3ded34cb-f372-414e-b764-dfb04fbd117e",
   "metadata": {},
   "outputs": [
    {
     "data": {
      "text/plain": [
       "\"Oddo BHF is a European investment bank and asset management firm that offers a wide range of financial services to individual and institutional clients. Founded in 1961, the company has its headquarters in Paris, France, and operates across various countries including Germany, Luxembourg, Italy, and Spain.\\n\\nThe company provides services such as equity research, corporate finance, asset management, private banking, and trading services. Oddo BHF's research division offers market analysis and investment recommendations on various sectors and industries, helping clients make informed decisions about their investments.\\n\\nOddo BHF is part of the broader Oddo Group, which also includes other financial services providers like Oddo Asset Management and Oddo Private Equity. The company aims to provide tailored solutions for its clients' investment needs by leveraging its expertise in various fields and maintaining strong relationships with its clients.\""
      ]
     },
     "execution_count": 29,
     "metadata": {},
     "output_type": "execute_result"
    }
   ],
   "source": [
    "result[\"result\"]"
   ]
  },
  {
   "cell_type": "code",
   "execution_count": 30,
   "id": "a95dcff1-0268-4d19-8fa7-f52d9a6118c3",
   "metadata": {},
   "outputs": [
    {
     "data": {
      "text/plain": [
       "{'query': 'what is oddo bhf',\n",
       " 'result': \"Oddo BHF is a European investment bank and asset management firm that offers a wide range of financial services to individual and institutional clients. Founded in 1961, the company has its headquarters in Paris, France, and operates across various countries including Germany, Luxembourg, Italy, and Spain.\\n\\nThe company provides services such as equity research, corporate finance, asset management, private banking, and trading services. Oddo BHF's research division offers market analysis and investment recommendations on various sectors and industries, helping clients make informed decisions about their investments.\\n\\nOddo BHF is part of the broader Oddo Group, which also includes other financial services providers like Oddo Asset Management and Oddo Private Equity. The company aims to provide tailored solutions for its clients' investment needs by leveraging its expertise in various fields and maintaining strong relationships with its clients.\",\n",
       " 'source_documents': [Document(page_content='Conflict of interests: ODDO BHF Corporate Markets, a division of ODDO BHF SCA, limited sharepartnership - Bank authorised by ACPR. ODDO BHF and/or one of its subsidiaries could be in a conflict of interest situation with one or several of the groups mentioned in this publication. Please refer to the conflict of interests section at the end of this document. This is a non-contractual document, it is strictly for the private use of the recipient, and the information it contains is based on sources we believe to be reliable, but whose accuracy and completeness cannot be guaranteed. The opinions given in the document reflect our appraisal at the time of publication and may therefore be revised at a later date.\\n\\n1 2 3 / e g a P\\n\\nMorning News 26/03/2024', metadata={'date': '10/01/2022', 'file_directory': 'test_pdfs', 'filename': 'Mx__364092_3.pdf', 'filetype': 'application/pdf', 'last_modified': '2024-03-27T04:51:18', 'page_number': '3', 'source': 'Mx__364092_3.pdf'}),\n",
       "  Document(page_content='Conflict of interests: ODDO BHF Corporate Markets, a division of ODDO BHF SCA, limited sharepartnership - Bank authorised by ACPR. ODDO BHF and/or one of its subsidiaries could be in a conflict of interest situation with one or several of the groups mentioned in this publication. Please refer to the conflict of interests section at the end of this document. This is a non-contractual document, it is strictly for the private use of the recipient, and the information it contains is based on sources we believe to be reliable, but whose accuracy and completeness cannot be guaranteed. The opinions given in the document reflect our appraisal at the time of publication and may therefore be revised at a later date.\\n\\n\\\\ ®\\n\\n1 2 8 / e g a P\\n\\nEconomic calendar#\\n\\nMorning News 26/03/2024\\n\\nDY ODDO BHF CORPORATES & MARKETS\\n\\nEconomic calendar\\n\\nKey date releases this week (see p. 2) Monday 10 January 2022\\n\\n$TypCap$ $Indus try$ $Categorie$ $Is WipSource$ $Is WipPending$ $Is WipEmpt y$ $compid$ 2 CAL\\n\\nUS inflation, US retail sales, Powell’s hearing, Chinese inflation', metadata={'date': '10/01/2022', 'file_directory': 'test_pdfs', 'filename': 'Mx__364092_3.pdf', 'filetype': 'application/pdf', 'last_modified': '2024-03-27T04:51:18', 'page_number': '8', 'source': 'Mx__364092_3.pdf'}),\n",
       "  Document(page_content='Conflict of interests: ODDO BHF Corporate Markets, a division of ODDO BHF SCA, limited sharepartnership - Bank authorised by ACPR. ODDO BHF and/or one of its subsidiaries could be in a conflict of interest situation with one or several of the groups mentioned in this publication. Please refer to the conflict of interests section at the end of this document. This is a non-contractual document, it is strictly for the private use of the recipient, and the information it contains is based on sources we believe to be reliable, but whose accuracy and completeness cannot be guaranteed. The opinions given in the document reflect our appraisal at the time of publication and may therefore be revised at a later date.\\n\\n\\\\\\n\\n1 2 7 / e g a P\\n\\nMorning News 26/03/2024\\n\\nValuation method Our target prices are established on a 12-month timeframe and we use three valuation methods to determine them. First, the discounting of available cash flows using the discounting parameters set by the Group and indicated on ODDO BHF’ website. Second, the sum-of-the-parts method based on the most pertinent financial aggregate depending on the sector of activity. Third, we also use the peer comparison method which facilitates an evaluation of the company relative to similar businesses, either because they operate in identical sectors (and are therefore in competition with one another) or because they benefit from comparable financial dynamics. A mixture of these valuation methods may be used in specific instances to more accurately reflect the specific characteristics of each company covered, thereby fine-tuning its evaluation. Sensitivity of the result of the analysis/ risk classification: The opinions expressed in the financial analysis are opinions as per a particular date, i.e. the date indicated in the financial analysis. The recommendation (cf. explanation of the recommendation systematic) can change owing to unforeseeable events which may, for instance, have repercussions on both the company and on the whole industry.\\n\\nOur stock market recommendations Our stock market recommendations reflect the RELATIVE performance expected for each stock on a 12-month timeframe. Outperform: performance expected to exceed that of the benchmark index, sectoral (large caps) or other (small and mid caps). Neutral: performance expected to be comparable to that of the benchmark index, sectoral (large caps) or other (small and mid caps). Underperform: performance expected to fall short of that of the benchmark index, sectoral (large caps) or other (small and mid caps).\\n\\nThe prices of the financial instruments used and mentioned in this document are the closing prices. All publications by ODDO BHF concerning the companies covered and mentioned in this document are available on the research site: www.securities.oddo-\\n\\nbhf.com www.securities.oddo-bhf.com\\n\\nRecommendation and target price changes history over the last 12 months for the company analysed in this report Date Reco Price Target (EUR) Price (EUR) 12/11/21 Outperform 155.00 122.75 30/07/21 Outperform 145.00 107.25 07/05/21 Outperform 135.00 108.20 05/05/21 Outperform 120.00 106.10 15/01/21 Outperform 115.00 96.64 Analyst Emmanuel Matot Emmanuel Matot Emmanuel Matot Emmanuel Matot Emmanuel Matot', metadata={'date': '10/01/2022', 'file_directory': 'test_pdfs', 'filename': 'Mx__364092_3.pdf', 'filetype': 'application/pdf', 'last_modified': '2024-03-27T04:51:18', 'page_number': '7', 'source': 'Mx__364092_3.pdf'}),\n",
       "  Document(page_content='Conflict of interests: ODDO BHF Corporate Markets, a division of ODDO BHF SCA, limited sharepartnership - Bank authorised by ACPR. ODDO BHF and/or one of its subsidiaries could be in a conflict of interest situation with one or several of the groups mentioned in this publication. Please refer to the conflict of interests section at the end of this document. This is a non-contractual document, it is strictly for the private use of the recipient, and the information it contains is based on sources we believe to be reliable, but whose accuracy and completeness cannot be guaranteed. The opinions given in the document reflect our appraisal at the time of publication and may therefore be revised at a later date.\\n\\n\\\\ ®\\n\\n1 2 5 / e g a P\\n\\nArkema#\\n\\nMorning News 26/03/2024\\n\\n> .\\n\\n> O D D O B H 5 CORPORATES & MARKETS\\n\\nFirst Take – Conference feedback Chemicals | France\\n\\nArkema\\n\\n>\\n\\nOutperform Price (07/01/2022) : 130.15 € | Upside : 19%\\n\\n| Target price : 155 €\\n\\n$TypCap$ 1624 24 0 4405 2 BNEWSè\\n\\nRevision 2021e —-2022e EPS\\n\\nFeedback Forum: 2022 expected to consolidate the excellent results in 2021\\n\\nPublication date 10/01/2022 08:39 Writing date 10/01/2022 08:32\\n\\nNew elements\\n\\n1200 coo coo wane ana Rave Crnkal ee\\n\\n:\\n\\nSources : ODDO BHF Securities, SIX\\n\\nShare data AKE FP | AKE.PA 9 967 ores sae tem) e528 Extrema 12 months (€) 88.52. 130.2 Free Float (%) 858 Performance (%) 4m 3m 12m| Absolute 58 186 35.8 re “ cen index “4 ~ a ome oem’ es em eens eee ton EBITDA Em) 1650 1675 1700 Current EBIT (Em) 1111 1103 109 Attr. net profit €m) 1307 659 ~=—-868._—S Adjusted EPS (@) 1705 860 871 Dividend (€) 280 270 $00 PIE (x) 63 151 149 PIB (x) 1.3 1.5 14 Dividend Yield (%) 23 24 23 FOF yield (%) 26 87 73 even 9 eyes ‘ge EViCurrent EBIT (x) 86 111 107 Gearing 0 ing (%) 5 20 1 Net Debt/EBITDA (x) 0.2 0.8 0.5\\n\\nDuring the Forum, management stressed the group’s strong capacity to adapt to a complex environment. is expected that 2022 will consolidate the excellent performance of 2021.\\n\\nMain message on the outlook\\n\\nArkema operated in a complex environment in 2021 with the pandemic, inflation, strong demand, etc., and the group demonstrated its capacity to adapt in its financial performance (much higher than before Covid in 2019). The transformation of the portfolio also continued with the goal of becoming a pure-player in specialty products by the end of 2024 (high-emission fluorinated gases are still to be deconsolidated, probably during the next 18 months).\\n\\nFor Q4 2021, we understand there was no notable change in the very positive trends observed in Q3 (however there was pressure in the intermediary acrylic activities in China) and 2022 is expected to be a year of consolidation (meeting in February to inflation is taking time communicate the guidance). The normalisation of (neutral/positive pricing power until now), demand is sometimes difficult to meet (shortages of certain raw materials, particularly in adhesives, expansion investment announced in high performance polymers, the biggest trends remain strong (support from innovation platforms - batteries, lighter materials, high performance adhesives, bio-sourced products, etc.), the new PA11 plant in Singapore will begin operating toward the middle of the year (no contribution to profit anticipated in the first year due to start-up costs), scope effects are set to be relatively low (contribution from acquisitions, from sales, including PMMA), the cyclical turnaround in coating solutions is difficult to predict (objective = EBITDA margin of 16% in 2024 vs. 20% at present).\\n\\nManagement remains focused on executing its 2024 roadmap which should enable a rerating of the valuation multiples. The group is benefiting from the accelerated demand for technological and sustainable solutions (nearly half of sales are aligned with the UN sustainable development goals – 2030 target = 65%) offering a solid outlook (e.g.: sales target in batteries = € 1bn in 2030 vs. <€ 100m in 2019).', metadata={'date': '10/01/2022', 'file_directory': 'test_pdfs', 'filename': 'Mx__364092_3.pdf', 'filetype': 'application/pdf', 'last_modified': '2024-03-27T04:51:18', 'page_number': '5', 'regex_metadata': \"{'Publication date': [{'text': 'Publication date 10/01/2022', 'start': 1099, 'end': 1126}]}\", 'source': 'Mx__364092_3.pdf'})]}"
      ]
     },
     "execution_count": 30,
     "metadata": {},
     "output_type": "execute_result"
    }
   ],
   "source": [
    "result"
   ]
  },
  {
   "cell_type": "markdown",
   "id": "69a1a308",
   "metadata": {},
   "source": [
    "Test the LLM without using RAG to observe the difference"
   ]
  },
  {
   "cell_type": "code",
   "execution_count": 31,
   "id": "5cd95f18-70e7-4dc5-a0e4-ecb19b69f1d9",
   "metadata": {},
   "outputs": [
    {
     "data": {
      "text/plain": [
       "'I\\'m afraid I don\\'t have any information on \"oddo bhf\". It could be a typo or an obscure term that hasn\\'t been introduced to me yet. If you provide more context, I would be happy to help you with your inquiry.'"
      ]
     },
     "execution_count": 31,
     "metadata": {},
     "output_type": "execute_result"
    }
   ],
   "source": [
    "\n",
    "llm2 = Ollama(model=\"nous-hermes2:10.7b\")\n",
    "\n",
    "llm2.invoke(\"what is oddo bhf\")"
   ]
  },
  {
   "cell_type": "code",
   "execution_count": null,
   "id": "f6e92582-d680-4ff6-947c-97e84c37506f",
   "metadata": {},
   "outputs": [],
   "source": []
  }
 ],
 "metadata": {
  "kernelspec": {
   "display_name": "Python 3 (ipykernel)",
   "language": "python",
   "name": "python3"
  },
  "language_info": {
   "codemirror_mode": {
    "name": "ipython",
    "version": 3
   },
   "file_extension": ".py",
   "mimetype": "text/x-python",
   "name": "python",
   "nbconvert_exporter": "python",
   "pygments_lexer": "ipython3",
   "version": "3.9.13"
  }
 },
 "nbformat": 4,
 "nbformat_minor": 5
}
